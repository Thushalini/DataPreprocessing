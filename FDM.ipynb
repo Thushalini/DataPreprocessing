{
  "nbformat": 4,
  "nbformat_minor": 0,
  "metadata": {
    "colab": {
      "provenance": []
    },
    "kernelspec": {
      "name": "python3",
      "display_name": "Python 3"
    },
    "language_info": {
      "name": "python"
    }
  },
  "cells": [
    {
      "cell_type": "code",
      "execution_count": 1,
      "metadata": {
        "id": "irwNFmrOzmfM"
      },
      "outputs": [],
      "source": [
        "import pandas as pd\n",
        "import numpy as np\n",
        "import matplotlib.pyplot as plt\n",
        "import seaborn as sns"
      ]
    },
    {
      "cell_type": "code",
      "source": [
        "df = pd.read_csv(\"/content/Student_performance_10k.csv\")\n",
        "print(df.head())\n",
        "print(df.info())"
      ],
      "metadata": {
        "colab": {
          "base_uri": "https://localhost:8080/"
        },
        "id": "t2NJ0_86zzrp",
        "outputId": "62046738-8e14-4b85-aded-37f15b60de9e"
      },
      "execution_count": 3,
      "outputs": [
        {
          "output_type": "stream",
          "name": "stdout",
          "text": [
            "  roll_no gender race_ethnicity parental_level_of_education  lunch  \\\n",
            "0  std-01   male        group D                some college    1.0   \n",
            "1  std-02   male        group B                 high school    1.0   \n",
            "2  std-03   male        group C             master's degree    1.0   \n",
            "3  std-04   male        group D                some college    1.0   \n",
            "4  std-05   male        group C                some college    0.0   \n",
            "\n",
            "   test_preparation_course math_score  reading_score  writing_score  \\\n",
            "0                      1.0         89           38.0           85.0   \n",
            "1                      0.0         65          100.0           67.0   \n",
            "2                      0.0         10           99.0           97.0   \n",
            "3                      1.0         22           51.0           41.0   \n",
            "4                      1.0         26           58.0           64.0   \n",
            "\n",
            "   science_score  total_score grade  \n",
            "0           26.0        238.0     C  \n",
            "1           96.0        328.0     A  \n",
            "2           58.0        264.0     B  \n",
            "3           84.0        198.0     D  \n",
            "4           65.0        213.0     C  \n",
            "<class 'pandas.core.frame.DataFrame'>\n",
            "RangeIndex: 10000 entries, 0 to 9999\n",
            "Data columns (total 12 columns):\n",
            " #   Column                       Non-Null Count  Dtype  \n",
            "---  ------                       --------------  -----  \n",
            " 0   roll_no                      9999 non-null   object \n",
            " 1   gender                       9982 non-null   object \n",
            " 2   race_ethnicity               9977 non-null   object \n",
            " 3   parental_level_of_education  9978 non-null   object \n",
            " 4   lunch                        9976 non-null   float64\n",
            " 5   test_preparation_course      9977 non-null   float64\n",
            " 6   math_score                   9976 non-null   object \n",
            " 7   reading_score                9975 non-null   float64\n",
            " 8   writing_score                9976 non-null   float64\n",
            " 9   science_score                9977 non-null   float64\n",
            " 10  total_score                  9981 non-null   float64\n",
            " 11  grade                        9997 non-null   object \n",
            "dtypes: float64(6), object(6)\n",
            "memory usage: 937.6+ KB\n",
            "None\n"
          ]
        }
      ]
    },
    {
      "cell_type": "code",
      "source": [
        "# Check missing values\n",
        "print(df.isnull().sum())"
      ],
      "metadata": {
        "colab": {
          "base_uri": "https://localhost:8080/"
        },
        "id": "Ndy_zFmSz7EE",
        "outputId": "2e91bfc9-6757-42ff-84d9-a6e9ef242cf8"
      },
      "execution_count": 15,
      "outputs": [
        {
          "output_type": "stream",
          "name": "stdout",
          "text": [
            "roll_no                         1\n",
            "gender                          0\n",
            "race_ethnicity                 23\n",
            "parental_level_of_education    22\n",
            "lunch                          24\n",
            "test_preparation_course        23\n",
            "math_score                      0\n",
            "reading_score                   0\n",
            "writing_score                   0\n",
            "science_score                  23\n",
            "total_score                    19\n",
            "grade                           3\n",
            "dtype: int64\n"
          ]
        }
      ]
    },
    {
      "cell_type": "code",
      "source": [
        "df.columns = (df.columns\n",
        "              .str.strip()\n",
        "              .str.lower()\n",
        "              .str.replace(r'\\s+', '_', regex=True))"
      ],
      "metadata": {
        "id": "9VCAfAo80ptW"
      },
      "execution_count": 6,
      "outputs": []
    },
    {
      "cell_type": "code",
      "source": [
        "# 2) Coerce score columns to numeric (turn bad strings into NaN)\n",
        "score_cols = ['math_score', 'reading_score', 'writing_score']\n",
        "for c in score_cols:\n",
        "    if c in df.columns:\n",
        "        # remove common non-numeric junk then convert\n",
        "        s = (df[c].astype(str)\n",
        "                    .str.replace(',', '', regex=False)\n",
        "                    .str.replace('%', '', regex=False))\n",
        "        df[c] = pd.to_numeric(s, errors='coerce')"
      ],
      "metadata": {
        "id": "sRFjpwQk0rGD"
      },
      "execution_count": 7,
      "outputs": []
    },
    {
      "cell_type": "code",
      "source": [
        "if 'math_score' in df.columns:\n",
        "    df['math_score'] = df['math_score'].fillna(df['math_score'].mean())"
      ],
      "metadata": {
        "id": "gL2LFmvJ0wBz"
      },
      "execution_count": 8,
      "outputs": []
    },
    {
      "cell_type": "code",
      "source": [
        "for c in score_cols:\n",
        "    if c in df.columns:\n",
        "        df[c] = df[c].fillna(df[c].mean())"
      ],
      "metadata": {
        "id": "3BORqElb01rO"
      },
      "execution_count": 9,
      "outputs": []
    },
    {
      "cell_type": "code",
      "source": [
        "# Fill categorical with mode\n",
        "df['gender'] = df['gender'].fillna(df['gender'].mode()[0])"
      ],
      "metadata": {
        "id": "DVl9tGnK1KGb"
      },
      "execution_count": 10,
      "outputs": []
    },
    {
      "cell_type": "code",
      "source": [
        "print(df.columns)"
      ],
      "metadata": {
        "colab": {
          "base_uri": "https://localhost:8080/"
        },
        "id": "Ne5ge__41dB3",
        "outputId": "1d9fd75e-8e9a-4f7b-aa2c-7438e3c83f54"
      },
      "execution_count": 11,
      "outputs": [
        {
          "output_type": "stream",
          "name": "stdout",
          "text": [
            "Index(['roll_no', 'gender', 'race_ethnicity', 'parental_level_of_education',\n",
            "       'lunch', 'test_preparation_course', 'math_score', 'reading_score',\n",
            "       'writing_score', 'science_score', 'total_score', 'grade'],\n",
            "      dtype='object')\n"
          ]
        }
      ]
    },
    {
      "cell_type": "code",
      "source": [
        "print(df.isnull().sum())"
      ],
      "metadata": {
        "colab": {
          "base_uri": "https://localhost:8080/"
        },
        "id": "x6nfNJfO1elm",
        "outputId": "9bc3da61-1a59-4c9f-e3f2-018d993973ef"
      },
      "execution_count": 12,
      "outputs": [
        {
          "output_type": "stream",
          "name": "stdout",
          "text": [
            "roll_no                         1\n",
            "gender                          0\n",
            "race_ethnicity                 23\n",
            "parental_level_of_education    22\n",
            "lunch                          24\n",
            "test_preparation_course        23\n",
            "math_score                      0\n",
            "reading_score                   0\n",
            "writing_score                   0\n",
            "science_score                  23\n",
            "total_score                    19\n",
            "grade                           3\n",
            "dtype: int64\n"
          ]
        }
      ]
    },
    {
      "cell_type": "code",
      "source": [
        "print(df[['math_score','reading_score','writing_score']].describe())"
      ],
      "metadata": {
        "colab": {
          "base_uri": "https://localhost:8080/"
        },
        "id": "Zx0MDMck1loG",
        "outputId": "bcc8ab6c-0faf-4fd8-b2ac-0d0c1219b305"
      },
      "execution_count": 14,
      "outputs": [
        {
          "output_type": "stream",
          "name": "stdout",
          "text": [
            "         math_score  reading_score  writing_score\n",
            "count  10000.000000   10000.000000   10000.000000\n",
            "mean      57.178747      70.125915      71.415798\n",
            "std       21.720060      19.002444      18.223450\n",
            "min        0.000000      17.000000      10.000000\n",
            "25%       41.000000      57.000000      59.000000\n",
            "50%       58.000000      71.000000      72.000000\n",
            "75%       73.000000      85.000000      85.000000\n",
            "max      100.000000     100.000000     100.000000\n"
          ]
        }
      ]
    }
  ]
}